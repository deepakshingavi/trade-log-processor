{
 "cells": [
  {
   "cell_type": "code",
   "execution_count": 51,
   "id": "55b88cc0-155d-4f7f-8314-0d9717c1cd2c",
   "metadata": {},
   "outputs": [],
   "source": [
    "import findspark\n",
    "from pyspark.sql import SparkSession\n",
    "from pyspark.sql.functions import col, when, countDistinct, lead, lag\n",
    "from pyspark.sql.window import Window"
   ]
  },
  {
   "cell_type": "code",
   "execution_count": 52,
   "id": "df0ab19d-9c68-4f2a-8791-7ae52a307451",
   "metadata": {},
   "outputs": [
    {
     "name": "stdout",
     "output_type": "stream",
     "text": [
      "The sparkmagic.magics extension is already loaded. To reload it, use:\n",
      "  %reload_ext sparkmagic.magics\n"
     ]
    }
   ],
   "source": [
    "%load_ext sparkmagic.magics"
   ]
  },
  {
   "cell_type": "code",
   "execution_count": 53,
   "id": "2184c536-cc42-4742-ad8d-41228bd36890",
   "metadata": {},
   "outputs": [],
   "source": [
    "findspark.init()"
   ]
  },
  {
   "cell_type": "code",
   "execution_count": 54,
   "id": "058d3b69-1400-45c5-9100-ade72cb17f18",
   "metadata": {},
   "outputs": [],
   "source": [
    "spark = SparkSession.builder \\\n",
    "    .appName(\"YourAppName\") \\\n",
    "    .getOrCreate()\n",
    "work_dir = 'test_data'"
   ]
  },
  {
   "cell_type": "code",
   "execution_count": 55,
   "id": "dd7c1575-0929-4c93-8fd2-fb74418e6138",
   "metadata": {},
   "outputs": [],
   "source": [
    "executions_df = spark.read.parquet(f'{work_dir}/exectuions.parquet')\n",
    "ref_df = spark.read.parquet(f'{work_dir}/refdata.parquet')\n",
    "market_df = spark.read.parquet(f'{work_dir}/marketdata.parquet')"
   ]
  },
  {
   "cell_type": "code",
   "execution_count": 56,
   "id": "2c9c30ae-9ab8-4a79-98b8-15497c646ae8",
   "metadata": {},
   "outputs": [
    {
     "name": "stdout",
     "output_type": "stream",
     "text": [
      "Executions count: 4203\n",
      "CPU times: user 2.18 ms, sys: 2.28 ms, total: 4.46 ms\n",
      "Wall time: 201 ms\n"
     ]
    }
   ],
   "source": [
    "%%time\n",
    "record_count = executions_df.count()\n",
    "print(f\"Executions count: {record_count}\")"
   ]
  },
  {
   "cell_type": "code",
   "execution_count": 57,
   "id": "503b7d74-803c-4c62-a0b0-430d203f3395",
   "metadata": {},
   "outputs": [
    {
     "name": "stdout",
     "output_type": "stream",
     "text": [
      "+-----------------------------+\n",
      "|count_unique_venue_executions|\n",
      "+-----------------------------+\n",
      "|                         3847|\n",
      "+-----------------------------+\n",
      "\n",
      "CPU times: user 7.14 ms, sys: 4.42 ms, total: 11.6 ms\n",
      "Wall time: 472 ms\n"
     ]
    }
   ],
   "source": [
    "%%time\n",
    "unique_executions = executions_df.agg(countDistinct(\"Venue\", \"TradeTime\").alias(\"count_unique_venue_executions\"))\n",
    "unique_executions.show()"
   ]
  },
  {
   "cell_type": "code",
   "execution_count": 58,
   "id": "eef9e825-634e-438f-a627-85b625f0aa50",
   "metadata": {},
   "outputs": [
    {
     "name": "stdout",
     "output_type": "stream",
     "text": [
      "Total count of continuous trades: 4103\n",
      "CPU times: user 3.36 ms, sys: 2.5 ms, total: 5.86 ms\n",
      "Wall time: 183 ms\n"
     ]
    }
   ],
   "source": [
    "%%time\n",
    "count_continuous_trades = executions_df.filter(col(\"Phase\") == 'CONTINUOUS_TRADING').count()\n",
    "print(f\"Total count of continuous trades: {count_continuous_trades}\")"
   ]
  },
  {
   "cell_type": "code",
   "execution_count": 59,
   "id": "7479be8e-5969-478d-abac-c2759ccd4375",
   "metadata": {},
   "outputs": [
    {
     "name": "stdout",
     "output_type": "stream",
     "text": [
      "CPU times: user 6.09 ms, sys: 3.2 ms, total: 9.3 ms\n",
      "Wall time: 410 ms\n"
     ]
    }
   ],
   "source": [
    "%%time\n",
    "transformed_executions_df = executions_df.withColumn(\"side\" , \n",
    "                         when((col('Quantity') < 0 ) , 2)\n",
    "                         .otherwise(1)\n",
    "                        )\n",
    "\n",
    "enriched_df = transformed_executions_df.join(ref_df.withColumnRenamed('Currency','reference_Currency')\n",
    "                                             , on='ISIN', how='left')\n",
    "enriched_df.write.mode(\"overwrite\").parquet(f'{work_dir}/output/enriched_df/')"
   ]
  },
  {
   "cell_type": "code",
   "execution_count": 60,
   "id": "6074b0a5-c64b-4b68-baa8-35aeb120fc91",
   "metadata": {},
   "outputs": [],
   "source": [
    "window_spec = Window().partitionBy(\"listing_id\").orderBy(\"event_timestamp\")"
   ]
  },
  {
   "cell_type": "code",
   "execution_count": 61,
   "id": "8f484545-06cf-4b58-b26d-2b3f25b2b59b",
   "metadata": {},
   "outputs": [
    {
     "name": "stderr",
     "output_type": "stream",
     "text": [
      "[Stage 160:=============================================>           (4 + 1) / 5]\r"
     ]
    },
    {
     "name": "stdout",
     "output_type": "stream",
     "text": [
      "CPU times: user 19.6 ms, sys: 7.98 ms, total: 27.6 ms\n",
      "Wall time: 6.91 s\n"
     ]
    },
    {
     "name": "stderr",
     "output_type": "stream",
     "text": [
      "                                                                                \r"
     ]
    }
   ],
   "source": [
    "%%time\n",
    "best_bid_ask_df = market_df.withColumn(\n",
    "    \"best_bid_min_1s\",\n",
    "    lag(\"best_bid_price\").over(window_spec),\n",
    ").withColumn(\n",
    "    \"best_bid_1s\",\n",
    "    lead(\"best_bid_price\").over(window_spec),\n",
    ").withColumn(\n",
    "    \"best_ask_min_1s\",\n",
    "    lag(\"best_ask_price\").over(window_spec),\n",
    ").withColumn(\n",
    "    \"best_ask_1s\",\n",
    "    lead(\"best_ask_price\").over(window_spec),\n",
    ")\n",
    "best_bid_ask_df.write.mode(\"overwrite\").parquet(f'{work_dir}/output/best_bid_ask/')"
   ]
  },
  {
   "cell_type": "code",
   "execution_count": 62,
   "id": "c0cd4ba2-4f7c-4d07-a912-010449520302",
   "metadata": {},
   "outputs": [
    {
     "name": "stderr",
     "output_type": "stream",
     "text": [
      "[Stage 163:===============================================>         (5 + 1) / 6]\r"
     ]
    },
    {
     "name": "stdout",
     "output_type": "stream",
     "text": [
      "CPU times: user 18.6 ms, sys: 7.75 ms, total: 26.4 ms\n",
      "Wall time: 5.72 s\n"
     ]
    },
    {
     "name": "stderr",
     "output_type": "stream",
     "text": [
      "                                                                                \r"
     ]
    }
   ],
   "source": [
    "%%time\n",
    "# Assuming (mind price = the average of the current quoted bid and ask price)\n",
    "mid_price_df = market_df.withColumn(\n",
    "    \"mid_price\",\n",
    "    (col(\"best_bid_price\") + col(\"best_ask_price\")) / 2\n",
    ").withColumn(\n",
    "    \"mid_price_min_1s\",\n",
    "    lag(\"mid_price\").over(window_spec),\n",
    ").withColumn(\n",
    "    \"mid_price_1s\",\n",
    "    lead(\"mid_price\").over(window_spec),\n",
    ")\n",
    "mid_price_df.write.mode(\"overwrite\").parquet(f'{work_dir}/output/mid_price/')"
   ]
  },
  {
   "cell_type": "code",
   "execution_count": null,
   "id": "5297f8ba-ca92-4582-b1c4-602c2222327e",
   "metadata": {},
   "outputs": [
    {
     "name": "stderr",
     "output_type": "stream",
     "text": [
      "[Stage 170:==========================================>              (3 + 1) / 4]\r"
     ]
    }
   ],
   "source": [
    "%%time\n",
    "# market_df.printSchema\n",
    "# enriched_df.printSchema\n",
    "slippage_df = market_df.join(enriched_df.withColumnRenamed('primary_mic','enriched_primary_mic'), \n",
    "                             market_df[\"listing_id\"] == enriched_df[\"id\"], how=\"left\").withColumn('slippage', \n",
    "                                  when(col('side') == 2  , \n",
    "                                       (col(\"Price\") - col(\"best_bid_price\") ) / ( col(\"best_ask_price\") - col(\"best_bid_price\")) )\n",
    "                                  .otherwise(\n",
    "                                       (col(\"best_ask_price\")  - col(\"Price\") )/ ( col(\"best_ask_price\") - col(\"best_bid_price\"))\n",
    "                         )\n",
    "           )\n",
    "slippage_df.write.mode(\"overwrite\").parquet(f'{work_dir}/output/slippage/')"
   ]
  },
  {
   "cell_type": "code",
   "execution_count": null,
   "id": "76a9017e-b47c-4d16-9285-b60174ad2368",
   "metadata": {},
   "outputs": [],
   "source": []
  }
 ],
 "metadata": {
  "kernelspec": {
   "display_name": "Python 3 (ipykernel)",
   "language": "python",
   "name": "python3"
  },
  "language_info": {
   "codemirror_mode": {
    "name": "ipython",
    "version": 3
   },
   "file_extension": ".py",
   "mimetype": "text/x-python",
   "name": "python",
   "nbconvert_exporter": "python",
   "pygments_lexer": "ipython3",
   "version": "3.9.1"
  }
 },
 "nbformat": 4,
 "nbformat_minor": 5
}
